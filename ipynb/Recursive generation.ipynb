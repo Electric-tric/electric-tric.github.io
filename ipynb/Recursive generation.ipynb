{
 "cells": [
  {
   "cell_type": "markdown",
   "metadata": {},
   "source": [
    "## Recursive generation of Catalan trees"
   ]
  },
  {
   "cell_type": "markdown",
   "metadata": {},
   "source": [
    "Let's start with recursion for the number of trees $ T_n $:\n",
    "$$\n",
    "\\boxed{\n",
    "    T_n = \\sum_{k=1}^n T_k T_{n-k-1}\n",
    "    ,\n",
    "    \\quad\n",
    "    T_1 = 1\n",
    "}\n",
    "$$"
   ]
  },
  {
   "cell_type": "markdown",
   "metadata": {},
   "source": [
    "### Precomputing values $T_n$"
   ]
  },
  {
   "cell_type": "code",
   "execution_count": 1,
   "metadata": {
    "collapsed": true
   },
   "outputs": [],
   "source": [
    "import numpy as np"
   ]
  },
  {
   "cell_type": "code",
   "execution_count": 2,
   "metadata": {},
   "outputs": [
    {
     "data": {
      "text/plain": [
       "array([  0.,   1.,   0.,   1.,   0.,   2.,   0.,   5.,   0.,  14.])"
      ]
     },
     "execution_count": 2,
     "metadata": {},
     "output_type": "execute_result"
    }
   ],
   "source": [
    "target_tree_size = 9\n",
    "\n",
    "T = np.zeros(target_tree_size + 1)\n",
    "T[1] = 1\n",
    "for k in xrange(2,target_tree_size+1):\n",
    "    T[k] = sum([\n",
    "        T_a * T_b\n",
    "        for (T_a, T_b)\n",
    "        in zip(T[1:k], reversed(T[1:k-1]))\n",
    "    ])\n",
    "    \n",
    "T"
   ]
  },
  {
   "cell_type": "markdown",
   "metadata": {},
   "source": [
    "We observe famous Catalan numbers $1, 1, 2, 5, 14, \\ldots$ standing on the odd positions, because a binary tree always has odd number of vertices."
   ]
  },
  {
   "cell_type": "markdown",
   "metadata": {},
   "source": [
    "### Recursive generation\n",
    "\n",
    "We generate a tree as a bracket sequence, the letter `Z` represents a node."
   ]
  },
  {
   "cell_type": "code",
   "execution_count": 3,
   "metadata": {},
   "outputs": [
    {
     "data": {
      "text/plain": [
       "'(Z)Z(((Z)Z(Z))Z((Z)Z(Z)))'"
      ]
     },
     "execution_count": 3,
     "metadata": {},
     "output_type": "execute_result"
    }
   ],
   "source": [
    "def generate_tree(size = target_tree_size):\n",
    "    if (size == 1):\n",
    "        return \"Z\"\n",
    "    T_k = T[size]\n",
    "    probabilities = [\n",
    "        T_a * T_b / T_k\n",
    "        for (T_a, T_b)\n",
    "        in zip(T[1:size], reversed(T[1:size-1]))\n",
    "    ]\n",
    "    left_nodes = np.random.choice(range(1,size-1), p=probabilities)\n",
    "    right_nodes = size - left_nodes - 1\n",
    "    return \"(\" + generate_tree(left_nodes) + \")Z(\" + generate_tree(right_nodes) + \")\"\n",
    "    \n",
    "generate_tree()"
   ]
  },
  {
   "cell_type": "markdown",
   "metadata": {},
   "source": [
    "This can be repeated to obtain several different trees"
   ]
  },
  {
   "cell_type": "code",
   "execution_count": 4,
   "metadata": {},
   "outputs": [
    {
     "name": "stdout",
     "output_type": "stream",
     "text": [
      "((((Z)Z(Z))Z(Z))Z(Z))Z(Z)\n",
      "(Z)Z((Z)Z(((Z)Z(Z))Z(Z)))\n",
      "(((Z)Z((Z)Z(Z)))Z(Z))Z(Z)\n",
      "(Z)Z((((Z)Z(Z))Z(Z))Z(Z))\n",
      "(Z)Z((((Z)Z(Z))Z(Z))Z(Z))\n"
     ]
    }
   ],
   "source": [
    "for i in xrange(5):\n",
    "    print generate_tree()"
   ]
  },
  {
   "cell_type": "code",
   "execution_count": null,
   "metadata": {
    "collapsed": true
   },
   "outputs": [],
   "source": []
  }
 ],
 "metadata": {
  "kernelspec": {
   "display_name": "Python 2",
   "language": "python",
   "name": "python2"
  },
  "language_info": {
   "codemirror_mode": {
    "name": "ipython",
    "version": 2
   },
   "file_extension": ".py",
   "mimetype": "text/x-python",
   "name": "python",
   "nbconvert_exporter": "python",
   "pygments_lexer": "ipython2",
   "version": "2.7.13"
  }
 },
 "nbformat": 4,
 "nbformat_minor": 2
}
