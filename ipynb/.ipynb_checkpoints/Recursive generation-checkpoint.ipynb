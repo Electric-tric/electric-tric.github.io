{
 "cells": [
  {
   "cell_type": "markdown",
   "metadata": {},
   "source": [
    "# Recursive generation of Catalan trees"
   ]
  },
  {
   "cell_type": "markdown",
   "metadata": {},
   "source": [
    "Let's start with recursion for the number of trees $ T_n $:\n",
    "$$\n",
    "\\boxed{\n",
    "    T_n = \\sum_{k=1}^n T_k T_{n-k-1}\n",
    "    ,\n",
    "    \\quad\n",
    "    T_1 = 1\n",
    "}\n",
    "$$"
   ]
  },
  {
   "cell_type": "markdown",
   "metadata": {},
   "source": [
    "### Precomputing values $T_n$"
   ]
  },
  {
   "cell_type": "code",
   "execution_count": 1,
   "metadata": {
    "collapsed": true
   },
   "outputs": [],
   "source": [
    "import numpy as np"
   ]
  },
  {
   "cell_type": "code",
   "execution_count": 2,
   "metadata": {},
   "outputs": [
    {
     "data": {
      "text/plain": [
       "array([  0.,   1.,   0.,   1.,   0.,   2.,   0.,   5.,   0.,  14.])"
      ]
     },
     "execution_count": 2,
     "metadata": {},
     "output_type": "execute_result"
    }
   ],
   "source": [
    "target_tree_size = 9\n",
    "\n",
    "T = np.zeros(target_tree_size + 1)\n",
    "T[1] = 1\n",
    "for k in xrange(2,target_tree_size+1):\n",
    "    T[k] = sum([\n",
    "        T_a * T_b\n",
    "        for (T_a, T_b)\n",
    "        in zip(T[1:k], reversed(T[1:k-1]))\n",
    "    ])\n",
    "    \n",
    "T"
   ]
  },
  {
   "cell_type": "markdown",
   "metadata": {},
   "source": [
    "We observe famous Catalan numbers $1, 1, 2, 5, 14, \\ldots$ standing on the odd positions, because a binary tree always has odd number of vertices."
   ]
  },
  {
   "cell_type": "markdown",
   "metadata": {},
   "source": [
    "### Recursive generation\n",
    "\n",
    "We generate a tree as a bracket sequence, the letter `Z` represents a node."
   ]
  },
  {
   "cell_type": "code",
   "execution_count": 3,
   "metadata": {},
   "outputs": [
    {
     "data": {
      "text/plain": [
       "'((Z)Z((Z)Z(Z)))Z((Z)Z(Z))'"
      ]
     },
     "execution_count": 3,
     "metadata": {},
     "output_type": "execute_result"
    }
   ],
   "source": [
    "def generate_tree(size = target_tree_size):\n",
    "    if (size == 1):\n",
    "        return \"Z\"\n",
    "    T_k = T[size]\n",
    "    probabilities = [\n",
    "        T_a * T_b / T_k\n",
    "        for (T_a, T_b)\n",
    "        in zip(T[1:size], reversed(T[1:size-1]))\n",
    "    ]\n",
    "    left_size = np.random.choice(range(1,size-1), p=probabilities)\n",
    "    right_size = size - left_size - 1\n",
    "    return \"(\" + generate_tree(left_size) + \")Z(\" + generate_tree(right_size) + \")\"\n",
    "    \n",
    "generate_tree()"
   ]
  },
  {
   "cell_type": "markdown",
   "metadata": {},
   "source": [
    "This can be repeated to obtain several different trees"
   ]
  },
  {
   "cell_type": "code",
   "execution_count": 4,
   "metadata": {},
   "outputs": [
    {
     "name": "stdout",
     "output_type": "stream",
     "text": [
      "(((Z)Z(Z))Z(Z))Z((Z)Z(Z))\n",
      "(Z)Z((((Z)Z(Z))Z(Z))Z(Z))\n",
      "(Z)Z(((Z)Z(Z))Z((Z)Z(Z)))\n",
      "(((Z)Z((Z)Z(Z)))Z(Z))Z(Z)\n",
      "(Z)Z(((Z)Z((Z)Z(Z)))Z(Z))\n"
     ]
    }
   ],
   "source": [
    "for i in xrange(5):\n",
    "    print generate_tree()"
   ]
  },
  {
   "cell_type": "markdown",
   "metadata": {
    "collapsed": true
   },
   "source": [
    "# Boltzmann generation of Catalan trees"
   ]
  },
  {
   "cell_type": "code",
   "execution_count": 5,
   "metadata": {
    "collapsed": true
   },
   "outputs": [],
   "source": [
    "import numpy as np"
   ]
  },
  {
   "cell_type": "markdown",
   "metadata": {},
   "source": [
    "Define the generating function first\n",
    "$$\n",
    "    F(z) = \\dfrac{1 - \\sqrt{1 - 4z^2}}{2z}\n",
    "$$"
   ]
  },
  {
   "cell_type": "code",
   "execution_count": 6,
   "metadata": {
    "collapsed": true
   },
   "outputs": [],
   "source": [
    "def F(z):\n",
    "    return (1.0 - np.sqrt(1.0 - 4.0 * z**2)) / (2.0 * z)"
   ]
  },
  {
   "cell_type": "markdown",
   "metadata": {},
   "source": [
    "Check that $T(0.5) = 1$"
   ]
  },
  {
   "cell_type": "code",
   "execution_count": 7,
   "metadata": {},
   "outputs": [
    {
     "data": {
      "text/plain": [
       "1.0"
      ]
     },
     "execution_count": 7,
     "metadata": {},
     "output_type": "execute_result"
    }
   ],
   "source": [
    "F(0.5)"
   ]
  },
  {
   "cell_type": "markdown",
   "metadata": {},
   "source": [
    "Generate Bernoulli variable with probabilities\n",
    "$$\n",
    "\\begin{cases}\n",
    "    \\mathbb P(X = 0) &= \\dfrac{z}{z + z F(z)^2} ,\\\\\n",
    "    \\mathbb P(X = 1) &= \\dfrac{zF(z)^2}{z + z F(z)^2}    \n",
    "\\end{cases}\n",
    "$$\n",
    "and recursively call Boltzmann generation procedure"
   ]
  },
  {
   "cell_type": "code",
   "execution_count": 8,
   "metadata": {},
   "outputs": [],
   "source": [
    "def generate(z):\n",
    "    p_0 = z / (z + z * F(z)**2)\n",
    "    p_1 = z*F(z)**2 / (z + z * F(z)**2)    \n",
    "    bernoulli_choice = np.random.choice([0, 1], p=[p_0, p_1])\n",
    "    if bernoulli_choice == 0:\n",
    "        return 'Z'\n",
    "    else:\n",
    "        left_subtree = generate(z)\n",
    "        right_subtree = generate(z)\n",
    "        return '('+left_subtree+')Z('+right_subtree+')'"
   ]
  },
  {
   "cell_type": "markdown",
   "metadata": {},
   "source": [
    "Let's try to look at typical generated objects at different values of $ z \\leq 0.5 $. It is meaningless to substitute $ z > 0.5 $ because the square root is not defined."
   ]
  },
  {
   "cell_type": "code",
   "execution_count": 9,
   "metadata": {},
   "outputs": [
    {
     "name": "stdout",
     "output_type": "stream",
     "text": [
      "Z\n",
      "Z\n",
      "(Z)Z(((Z)Z(Z))Z(Z))\n",
      "(Z)Z(Z)\n",
      "Z\n",
      "Z\n",
      "Z\n",
      "Z\n",
      "(Z)Z(Z)\n",
      "((Z)Z(Z))Z(Z)\n"
     ]
    }
   ],
   "source": [
    "for i in xrange(10):\n",
    "    print generate(0.45)"
   ]
  },
  {
   "cell_type": "code",
   "execution_count": 10,
   "metadata": {},
   "outputs": [
    {
     "name": "stdout",
     "output_type": "stream",
     "text": [
      "(Z)Z(((Z)Z(Z))Z((Z)Z(Z)))\n",
      "Z\n",
      "(((Z)Z(Z))Z(Z))Z(Z)\n",
      "Z\n",
      "Z\n",
      "(Z)Z(Z)\n",
      "Z\n",
      "Z\n",
      "Z\n",
      "Z\n"
     ]
    }
   ],
   "source": [
    "for i in xrange(10):\n",
    "    print generate(0.48)"
   ]
  },
  {
   "cell_type": "code",
   "execution_count": 11,
   "metadata": {},
   "outputs": [
    {
     "name": "stdout",
     "output_type": "stream",
     "text": [
      "Z\n",
      "((Z)Z(Z))Z((((Z)Z((Z)Z(((Z)Z(Z))Z(Z))))Z(Z))Z(Z))\n",
      "Z\n",
      "Z\n",
      "Z\n",
      "Z\n",
      "Z\n",
      "Z\n",
      "(Z)Z((Z)Z(Z))\n",
      "Z\n"
     ]
    }
   ],
   "source": [
    "for i in xrange(10):\n",
    "    print generate(0.49)"
   ]
  },
  {
   "cell_type": "code",
   "execution_count": 18,
   "metadata": {},
   "outputs": [
    {
     "name": "stdout",
     "output_type": "stream",
     "text": [
      "Z\n",
      "Z\n",
      "(Z)Z(Z)\n",
      "Z\n",
      "(Z)Z(Z)\n",
      "(((((Z)Z(Z))Z((Z)Z(Z)))Z(((Z)Z(Z))Z(((Z)Z((Z)Z(((Z)Z((((Z)Z(((((Z)Z(Z))Z(Z))Z((Z)Z(((((Z)Z(Z))Z(Z))Z((Z)Z(Z)))Z(Z))))Z(Z)))Z(Z))Z((Z)Z(((Z)Z((Z)Z((Z)Z((((((((Z)Z((((Z)Z(Z))Z(Z))Z(Z)))Z((((((Z)Z(Z))Z(Z))Z((Z)Z(Z)))Z(Z))Z(Z)))Z(Z))Z(Z))Z(((((Z)Z(Z))Z(Z))Z((Z)Z(Z)))Z(Z)))Z(((Z)Z(Z))Z(Z)))Z(Z)))))Z((Z)Z(((Z)Z(((Z)Z(Z))Z((Z)Z(Z))))Z((Z)Z(Z))))))))Z((((Z)Z((Z)Z(Z)))Z(Z))Z(Z)))))Z((Z)Z(Z)))))Z((Z)Z(((Z)Z((Z)Z((((((Z)Z(Z))Z(Z))Z((Z)Z(((((Z)Z(((Z)Z((Z)Z((Z)Z((((((Z)Z(Z))Z(((Z)Z((Z)Z(Z)))Z(Z)))Z(((Z)Z((Z)Z(Z)))Z((((((Z)Z(Z))Z(Z))Z((Z)Z(Z)))Z(Z))Z((Z)Z(Z)))))Z((Z)Z(Z)))Z(((((Z)Z(Z))Z(Z))Z(Z))Z(Z))))))Z(Z)))Z((((Z)Z(Z))Z(Z))Z(((Z)Z(Z))Z(Z))))Z(Z))Z((((Z)Z(Z))Z(Z))Z((Z)Z(((((Z)Z(Z))Z((Z)Z(Z)))Z(Z))Z(Z)))))))Z((((Z)Z(Z))Z(Z))Z(Z)))Z(((Z)Z(Z))Z((Z)Z(((Z)Z(Z))Z(Z)))))))Z((Z)Z(Z)))))Z(((((((Z)Z(Z))Z((Z)Z(Z)))Z(Z))Z(Z))Z(((Z)Z(Z))Z(Z)))Z((((Z)Z(Z))Z((Z)Z(((Z)Z((Z)Z(((((((Z)Z((Z)Z((Z)Z(Z))))Z(((Z)Z(((Z)Z(((Z)Z(Z))Z((((Z)Z((Z)Z(Z)))Z(Z))Z(Z))))Z(Z)))Z(Z)))Z(Z))Z(Z))Z(Z))Z((((((((Z)Z((((Z)Z(Z))Z(Z))Z(((((Z)Z((((((Z)Z((Z)Z((((Z)Z((((Z)Z(Z))Z(Z))Z(Z)))Z(Z))Z(((Z)Z((Z)Z(Z)))Z(((Z)Z(Z))Z(Z))))))Z(((((Z)Z(Z))Z(((Z)Z(Z))Z(Z)))Z((Z)Z((((Z)Z(Z))Z(Z))Z((Z)Z((Z)Z(((Z)Z(Z))Z(Z)))))))Z(Z)))Z((((Z)Z(Z))Z(((Z)Z(Z))Z(Z)))Z(Z)))Z(Z))Z(Z)))Z(Z))Z(Z))Z(Z))))Z(Z))Z(Z))Z(Z))Z(Z))Z(Z))Z((Z)Z((((Z)Z(Z))Z(((Z)Z((Z)Z(Z)))Z((((Z)Z(Z))Z(Z))Z(Z))))Z((Z)Z(Z))))))))Z((((((Z)Z((((Z)Z((Z)Z((Z)Z(Z))))Z(Z))Z((Z)Z((((Z)Z(((Z)Z((Z)Z(Z)))Z((Z)Z(Z))))Z((Z)Z(Z)))Z(Z)))))Z((Z)Z(Z)))Z((((((Z)Z(Z))Z((Z)Z(((Z)Z(Z))Z((Z)Z((((Z)Z(Z))Z(Z))Z(Z))))))Z(Z))Z(Z))Z((Z)Z(Z))))Z(Z))Z(Z)))))Z(((Z)Z(Z))Z((Z)Z(Z)))))\n",
      "((Z)Z((((Z)Z(((Z)Z((((Z)Z((Z)Z(Z)))Z(Z))Z(((Z)Z((((Z)Z((Z)Z((Z)Z((((Z)Z((Z)Z(Z)))Z(Z))Z((((Z)Z((Z)Z((Z)Z(Z))))Z(Z))Z(Z))))))Z((Z)Z(Z)))Z(Z)))Z(Z))))Z((Z)Z(Z))))Z(Z))Z(Z)))Z(Z)\n",
      "(Z)Z(((((((Z)Z((Z)Z(Z)))Z((Z)Z(((Z)Z(Z))Z(Z))))Z(Z))Z(Z))Z((Z)Z((Z)Z(Z))))Z((((((Z)Z(Z))Z((((Z)Z(((Z)Z((Z)Z(((Z)Z((((Z)Z((Z)Z(Z)))Z(Z))Z((Z)Z(Z))))Z((Z)Z((Z)Z((Z)Z(Z)))))))Z(Z)))Z(Z))Z((Z)Z(Z))))Z(Z))Z(Z))Z(Z)))\n",
      "Z\n",
      "Z\n"
     ]
    }
   ],
   "source": [
    "for i in xrange(10):\n",
    "    print generate(0.5)"
   ]
  },
  {
   "cell_type": "markdown",
   "metadata": {},
   "source": [
    "When $ z = 0.5 $, the variance becomes infinity.\n",
    "Make a plot to look at average tree size after 1000 iterations."
   ]
  },
  {
   "cell_type": "code",
   "execution_count": 13,
   "metadata": {},
   "outputs": [],
   "source": [
    "def compute_expected_size(z):\n",
    "    return sum([\n",
    "        len(generate(z))\n",
    "        for i in xrange(1000)\n",
    "    ])/1000.0"
   ]
  },
  {
   "cell_type": "code",
   "execution_count": 14,
   "metadata": {},
   "outputs": [
    {
     "data": {
      "text/plain": [
       "<matplotlib.text.Text at 0x1047b3210>"
      ]
     },
     "execution_count": 14,
     "metadata": {},
     "output_type": "execute_result"
    },
    {
     "data": {
      "image/png": "[encoded data removed]",
      "text/plain": [
       "<matplotlib.figure.Figure at 0x1032cf1d0>"
      ]
     },
     "metadata": {},
     "output_type": "display_data"
    }
   ],
   "source": [
    "import matplotlib.pyplot as plt\n",
    "%matplotlib inline\n",
    "\n",
    "args = [0.45, 0.46, 0.47, 0.48, 0.49, 0.492, 0.495, 0.499]\n",
    "values = map(compute_expected_size, args)\n",
    "plt.plot(args, values, linewidth=3)\n",
    "plt.xlabel('z')\n",
    "plt.ylabel('expected size')"
   ]
  },
  {
   "cell_type": "markdown",
   "metadata": {},
   "source": [
    "We can also observe distribution of returned objects conditioned on size, for different sizes"
   ]
  },
  {
   "cell_type": "code",
   "execution_count": 15,
   "metadata": {},
   "outputs": [
    {
     "data": {
      "image/png": "[encoded data removed]",
      "text/plain": [
       "<matplotlib.figure.Figure at 0x1048f20d0>"
      ]
     },
     "metadata": {},
     "output_type": "display_data"
    }
   ],
   "source": [
    "values = map(compute_expected_size, args)\n",
    "plt.plot(args, values, linewidth=3, c='#3377aa')\n",
    "plt.xlabel('z')\n",
    "plt.ylabel('size')        \n",
    "\n",
    "for arg in args:\n",
    "    for i in xrange(50):\n",
    "        plt.scatter(arg, len(generate(arg)),c='#3377aa', alpha = 0.4)"
   ]
  },
  {
   "cell_type": "markdown",
   "metadata": {},
   "source": [
    "In fact, the size of generated object has a very large variance, which, however, can be restricted by rejecting objects of inappropriate size."
   ]
  },
  {
   "cell_type": "code",
   "execution_count": null,
   "metadata": {
    "collapsed": true
   },
   "outputs": [],
   "source": []
  }
 ],
 "metadata": {
  "kernelspec": {
   "display_name": "Python 2",
   "language": "python",
   "name": "python2"
  },
  "language_info": {
   "codemirror_mode": {
    "name": "ipython",
    "version": 2
   },
   "file_extension": ".py",
   "mimetype": "text/x-python",
   "name": "python",
   "nbconvert_exporter": "python",
   "pygments_lexer": "ipython2",
   "version": "2.7.13"
  }
 },
 "nbformat": 4,
 "nbformat_minor": 2
}
