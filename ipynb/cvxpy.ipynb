{
 "cells": [
  {
   "cell_type": "code",
   "execution_count": 3,
   "metadata": {},
   "outputs": [
    {
     "name": "stdout",
     "output_type": "stream",
     "text": [
      "[[-1.71325765]\n",
      " [ 3.07423436]\n",
      " [-1.28247477]]\n"
     ]
    }
   ],
   "source": [
    "import cvxpy\n",
    "import numpy\n",
    "\n",
    "# Hashtag means comment\n",
    "# this is a comment\n",
    "\n",
    "\"\"\"\n",
    "Text inside triple quotes is also a comment.\n",
    "\n",
    "Indentation is crucial for python,\n",
    "for example if you write a loop\n",
    "\n",
    "for i in range(1, 10):\n",
    "    print i\n",
    "\n",
    "which prints the numbers 1 2 3 4 5 6 7 8 9\n",
    "you should put four spaces before each command inside the loop.\n",
    "This defines where the loop ends.\n",
    "Sometimes, advanced indentation is available,\n",
    "I will use it to make the matrices more clear.\n",
    "\n",
    "\"\"\"\n",
    "\n",
    "# Create some vector/matrix-valued variables\n",
    "z = cvxpy.Variable((3)) # z is 3-dimensional\n",
    "coeff = numpy.array([\n",
    "    [1,0,0],\n",
    "    [1,0,2],\n",
    "    [1,1,3]\n",
    "]) # this is a 3x3 matrix with some coefficients\n",
    "\n",
    "# objective function is z[0]*1 + z[1]*0.3 + z[2]*0 -> max\n",
    "obj = numpy.array([\n",
    "    [1.0, 0.3, 0.0]\n",
    "])\n",
    "\n",
    "# Create array of constraints (array of one element).\n",
    "constraints = [ z[2] >= cvxpy.log_sum_exp(coeff * z) ]\n",
    "\"\"\"\n",
    "Let me explain what happens here.\n",
    "Generally, you can write a sequence of constraints separated by comma\n",
    "Like this:\n",
    "\n",
    "constraints = [constraint_1,\n",
    "               constraint_2,\n",
    "               constraint_3]\n",
    "               \n",
    "we have only one constraint which is\n",
    "z[2] >= log(exp(z[0]) + exp(z[0] + 2 z[2]) + exp(z[0] + z[1] + 3z[2]))\n",
    "\n",
    "To encode this constraint, we use the matrix called `coeff`\n",
    "and cvxpy builtin function cvxpy.log_sum_exp\n",
    "\n",
    "Here, `coeff * z` automatically means matrix-by-matrix multiplication.\n",
    "You can't just write `cvxpy.log( cvxpy.exp(...) + cvxpy.exp(...) )`\n",
    "because otherwise you will take a composition of concave and convex function \n",
    "which is not allowed.\n",
    "\"\"\"\n",
    "\n",
    "# Form objective function to optimize.\n",
    "obj = cvxpy.Maximize( obj * z)\n",
    "\n",
    "# Form and solve problem.\n",
    "prob = cvxpy.Problem(obj, constraints)\n",
    "result = prob.solve()\n",
    "\n",
    "# The optimal dual variable (Lagrange multiplier) for\n",
    "# a constraint is stored in constraint.dual_value.\n",
    "#print \"optimal (x + y == 1) dual variable\", constraints[0].dual_value\n",
    "#print \"optimal (x - y >= 1) dual variable\", constraints[1].dual_value\n",
    "#print \"x - y value:\", (x - y).value\n",
    "print z.value"
   ]
  },
  {
   "cell_type": "code",
   "execution_count": null,
   "metadata": {
    "collapsed": true
   },
   "outputs": [],
   "source": []
  }
 ],
 "metadata": {
  "kernelspec": {
   "display_name": "Python 2",
   "language": "python",
   "name": "python2"
  },
  "language_info": {
   "codemirror_mode": {
    "name": "ipython",
    "version": 2
   },
   "file_extension": ".py",
   "mimetype": "text/x-python",
   "name": "python",
   "nbconvert_exporter": "python",
   "pygments_lexer": "ipython2",
   "version": "2.7.13"
  }
 },
 "nbformat": 4,
 "nbformat_minor": 2
}
